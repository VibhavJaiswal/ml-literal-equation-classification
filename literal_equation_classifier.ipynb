{
 "cells": [
  {
   "cell_type": "code",
   "execution_count": 1,
   "id": "45f738ce-ff9d-4ef3-88e0-75596bd478ef",
   "metadata": {},
   "outputs": [],
   "source": [
    "# !pip install lightgbm --no-cache-dir\n",
    "# !pip install xgboost --no-cache-dir"
   ]
  },
  {
   "cell_type": "code",
   "execution_count": 2,
   "id": "08d67e8c-0d0f-4064-90ab-2008be370a6d",
   "metadata": {},
   "outputs": [],
   "source": [
    "import pandas as pd"
   ]
  },
  {
   "cell_type": "code",
   "execution_count": 3,
   "id": "6d054dc3-11f5-47c1-9e22-5392d03635af",
   "metadata": {},
   "outputs": [],
   "source": [
    "file_path = \"nn_leq.csv\"\n",
    "df = pd.read_csv(file_path)"
   ]
  },
  {
   "cell_type": "code",
   "execution_count": 4,
   "id": "0322b025-622e-469e-839f-3615fa6f85ec",
   "metadata": {},
   "outputs": [
    {
     "data": {
      "text/html": [
       "<div>\n",
       "<style scoped>\n",
       "    .dataframe tbody tr th:only-of-type {\n",
       "        vertical-align: middle;\n",
       "    }\n",
       "\n",
       "    .dataframe tbody tr th {\n",
       "        vertical-align: top;\n",
       "    }\n",
       "\n",
       "    .dataframe thead th {\n",
       "        text-align: right;\n",
       "    }\n",
       "</style>\n",
       "<table border=\"1\" class=\"dataframe\">\n",
       "  <thead>\n",
       "    <tr style=\"text-align: right;\">\n",
       "      <th></th>\n",
       "      <th>id</th>\n",
       "      <th>term</th>\n",
       "      <th>yn</th>\n",
       "    </tr>\n",
       "  </thead>\n",
       "  <tbody>\n",
       "    <tr>\n",
       "      <th>0</th>\n",
       "      <td>2</td>\n",
       "      <td>(x+y^3)/3=6</td>\n",
       "      <td>1</td>\n",
       "    </tr>\n",
       "    <tr>\n",
       "      <th>1</th>\n",
       "      <td>3</td>\n",
       "      <td>(x+y^3)/3=6</td>\n",
       "      <td>1</td>\n",
       "    </tr>\n",
       "    <tr>\n",
       "      <th>2</th>\n",
       "      <td>4</td>\n",
       "      <td>xyz=6</td>\n",
       "      <td>1</td>\n",
       "    </tr>\n",
       "    <tr>\n",
       "      <th>3</th>\n",
       "      <td>5</td>\n",
       "      <td>(x+y^3)/3</td>\n",
       "      <td>1</td>\n",
       "    </tr>\n",
       "    <tr>\n",
       "      <th>4</th>\n",
       "      <td>6</td>\n",
       "      <td>xyz=6</td>\n",
       "      <td>1</td>\n",
       "    </tr>\n",
       "  </tbody>\n",
       "</table>\n",
       "</div>"
      ],
      "text/plain": [
       "   id         term  yn\n",
       "0   2  (x+y^3)/3=6   1\n",
       "1   3  (x+y^3)/3=6   1\n",
       "2   4        xyz=6   1\n",
       "3   5    (x+y^3)/3   1\n",
       "4   6        xyz=6   1"
      ]
     },
     "execution_count": 4,
     "metadata": {},
     "output_type": "execute_result"
    }
   ],
   "source": [
    "df.head()"
   ]
  },
  {
   "cell_type": "code",
   "execution_count": 5,
   "id": "15191c53-5703-4a73-a6c1-548ce406fefb",
   "metadata": {},
   "outputs": [],
   "source": [
    "df = df.drop(columns = ['id'])"
   ]
  },
  {
   "cell_type": "code",
   "execution_count": 6,
   "id": "e7b6ebaa-9b5d-4ed8-8da8-e4ccac20c5c6",
   "metadata": {},
   "outputs": [
    {
     "name": "stdout",
     "output_type": "stream",
     "text": [
      "term    186\n",
      "yn        0\n",
      "dtype: int64\n"
     ]
    }
   ],
   "source": [
    "print(df.isnull().sum())"
   ]
  },
  {
   "cell_type": "code",
   "execution_count": 7,
   "id": "8a062f84-0c16-45f5-ba7a-f9ae4fc39af1",
   "metadata": {},
   "outputs": [],
   "source": [
    "df = df.dropna()"
   ]
  },
  {
   "cell_type": "code",
   "execution_count": 8,
   "id": "85b8bd92-f913-4008-bfd6-1cb140bae772",
   "metadata": {},
   "outputs": [
    {
     "data": {
      "text/plain": [
       "(392213, 2)"
      ]
     },
     "execution_count": 8,
     "metadata": {},
     "output_type": "execute_result"
    }
   ],
   "source": [
    "df.shape"
   ]
  },
  {
   "cell_type": "code",
   "execution_count": 9,
   "id": "4dd07f19-ba4c-4d47-9770-928703f5174a",
   "metadata": {},
   "outputs": [
    {
     "data": {
      "text/html": [
       "<div>\n",
       "<style scoped>\n",
       "    .dataframe tbody tr th:only-of-type {\n",
       "        vertical-align: middle;\n",
       "    }\n",
       "\n",
       "    .dataframe tbody tr th {\n",
       "        vertical-align: top;\n",
       "    }\n",
       "\n",
       "    .dataframe thead th {\n",
       "        text-align: right;\n",
       "    }\n",
       "</style>\n",
       "<table border=\"1\" class=\"dataframe\">\n",
       "  <thead>\n",
       "    <tr style=\"text-align: right;\">\n",
       "      <th></th>\n",
       "      <th>term</th>\n",
       "      <th>yn</th>\n",
       "    </tr>\n",
       "  </thead>\n",
       "  <tbody>\n",
       "    <tr>\n",
       "      <th>0</th>\n",
       "      <td>(x+y^3)/3=6</td>\n",
       "      <td>1</td>\n",
       "    </tr>\n",
       "    <tr>\n",
       "      <th>1</th>\n",
       "      <td>(x+y^3)/3=6</td>\n",
       "      <td>1</td>\n",
       "    </tr>\n",
       "    <tr>\n",
       "      <th>2</th>\n",
       "      <td>xyz=6</td>\n",
       "      <td>1</td>\n",
       "    </tr>\n",
       "    <tr>\n",
       "      <th>3</th>\n",
       "      <td>(x+y^3)/3</td>\n",
       "      <td>1</td>\n",
       "    </tr>\n",
       "    <tr>\n",
       "      <th>4</th>\n",
       "      <td>xyz=6</td>\n",
       "      <td>1</td>\n",
       "    </tr>\n",
       "  </tbody>\n",
       "</table>\n",
       "</div>"
      ],
      "text/plain": [
       "          term  yn\n",
       "0  (x+y^3)/3=6   1\n",
       "1  (x+y^3)/3=6   1\n",
       "2        xyz=6   1\n",
       "3    (x+y^3)/3   1\n",
       "4        xyz=6   1"
      ]
     },
     "execution_count": 9,
     "metadata": {},
     "output_type": "execute_result"
    }
   ],
   "source": [
    "df.head()"
   ]
  },
  {
   "cell_type": "code",
   "execution_count": 10,
   "id": "72822534-ab99-4269-b78a-8c63baf58957",
   "metadata": {},
   "outputs": [
    {
     "name": "stdout",
     "output_type": "stream",
     "text": [
      "Shape of TF-IDF Matrx: (392213, 50000)\n"
     ]
    }
   ],
   "source": [
    "from sklearn.feature_extraction.text import TfidfVectorizer\n",
    "\n",
    "vectorizer = TfidfVectorizer(max_features = 50000)\n",
    "\n",
    "X = vectorizer.fit_transform(df['term'])\n",
    "\n",
    "y = df['yn']\n",
    "\n",
    "print(f\"Shape of TF-IDF Matrx: {X.shape}\")"
   ]
  },
  {
   "cell_type": "code",
   "execution_count": 32,
   "id": "c1bdc038-38f7-47d0-a1e6-595ff538c89e",
   "metadata": {},
   "outputs": [
    {
     "name": "stdout",
     "output_type": "stream",
     "text": [
      "✅ TF-IDF Vectorizer saved successfully!\n"
     ]
    }
   ],
   "source": [
    "import joblib\n",
    "joblib.dump(vectorizer, \"tfidf_vectorizer.pkl\")  # Save the vectorizer\n",
    "print(\"✅ TF-IDF Vectorizer saved successfully!\")\n"
   ]
  },
  {
   "cell_type": "code",
   "execution_count": 11,
   "id": "a3265dfc-dce8-4294-925b-e7288f0d2017",
   "metadata": {},
   "outputs": [
    {
     "name": "stdout",
     "output_type": "stream",
     "text": [
      "Training data: (313770, 50000), Testing data: (78443, 50000)\n"
     ]
    }
   ],
   "source": [
    "from sklearn.model_selection import train_test_split\n",
    "\n",
    "X_train, X_test, y_train, y_test = train_test_split(X, y, test_size = 0.2, random_state = 42)\n",
    "\n",
    "print(f\"Training data: {X_train.shape}, Testing data: {X_test.shape}\")"
   ]
  },
  {
   "cell_type": "code",
   "execution_count": 12,
   "id": "13dba20f-4f44-4b5e-bb51-e7e07b3e518b",
   "metadata": {},
   "outputs": [
    {
     "name": "stdout",
     "output_type": "stream",
     "text": [
      "Model training completed!\n"
     ]
    }
   ],
   "source": [
    "from sklearn.linear_model import LogisticRegression\n",
    "\n",
    "model = LogisticRegression(max_iter = 500)\n",
    "\n",
    "model.fit(X_train, y_train)\n",
    "\n",
    "print(\"Model training completed!\")"
   ]
  },
  {
   "cell_type": "code",
   "execution_count": 13,
   "id": "5bf8f1dc-f239-4149-94f6-caaefab6b7ec",
   "metadata": {},
   "outputs": [
    {
     "name": "stdout",
     "output_type": "stream",
     "text": [
      "Model Accuracy: 0.93\n",
      "              precision    recall  f1-score   support\n",
      "\n",
      "           0       0.93      0.99      0.96     68741\n",
      "           1       0.83      0.51      0.64      9702\n",
      "\n",
      "    accuracy                           0.93     78443\n",
      "   macro avg       0.88      0.75      0.80     78443\n",
      "weighted avg       0.92      0.93      0.92     78443\n",
      "\n"
     ]
    }
   ],
   "source": [
    "from sklearn.metrics import accuracy_score, classification_report\n",
    "\n",
    "y_pred = model.predict(X_test)\n",
    "\n",
    "accuracy = accuracy_score(y_test, y_pred)\n",
    "print(f\"Model Accuracy: {accuracy:.2f}\")\n",
    "\n",
    "print(classification_report(y_test, y_pred))"
   ]
  },
  {
   "cell_type": "code",
   "execution_count": 14,
   "id": "6aba8f33-b938-4acb-aa74-990547e19da4",
   "metadata": {},
   "outputs": [
    {
     "name": "stdout",
     "output_type": "stream",
     "text": [
      "Equation: F = ma --> Literal Euation (1)\n",
      "Equation: 2 + 3 = 5 --> Not a Literal Equation (0)\n",
      "Equation: P = IV --> Literal Euation (1)\n",
      "Equation: E = mc^2 --> Literal Euation (1)\n"
     ]
    }
   ],
   "source": [
    "new_equations = [\"F = ma\", \"2 + 3 = 5\", \"P = IV\", \"E = mc^2\"]\n",
    "\n",
    "X_new = vectorizer.transform(new_equations)\n",
    "\n",
    "predictions = model.predict(X_new)\n",
    "\n",
    "for eq, pred in zip(new_equations, predictions):\n",
    "    print(f\"Equation: {eq} --> {'Literal Euation (1)' if pred == 1 else 'Not a Literal Equation (0)'}\")"
   ]
  },
  {
   "cell_type": "code",
   "execution_count": 15,
   "id": "cf2d691b-d74e-4e40-943e-a55e99b3cf7d",
   "metadata": {},
   "outputs": [
    {
     "name": "stdout",
     "output_type": "stream",
     "text": [
      "Random Forest Accuracy: 0.94\n"
     ]
    }
   ],
   "source": [
    "from sklearn.ensemble import RandomForestClassifier\n",
    "from sklearn.metrics import accuracy_score\n",
    "\n",
    "model_rf = RandomForestClassifier(n_estimators = 30, random_state = 42, n_jobs = -1)\n",
    "\n",
    "model_rf.fit(X_train, y_train)\n",
    "\n",
    "y_pred_rf = model_rf.predict(X_test)\n",
    "\n",
    "accuracy_rf = accuracy_score(y_test, y_pred_rf)\n",
    "print(f\"Random Forest Accuracy: {accuracy_rf:.2f}\")"
   ]
  },
  {
   "cell_type": "code",
   "execution_count": 16,
   "id": "bfb16a50-ee2c-46f9-80d4-6d878f1624c8",
   "metadata": {},
   "outputs": [
    {
     "name": "stdout",
     "output_type": "stream",
     "text": [
      "[LightGBM] [Info] Number of positive: 38493, number of negative: 275277\n",
      "[LightGBM] [Info] This is the GPU trainer!!\n",
      "[LightGBM] [Info] Total Bins 31011\n",
      "[LightGBM] [Info] Number of data points in the train set: 313770, number of used features: 3590\n",
      "[LightGBM] [Info] Using GPU Device: NVIDIA GeForce RTX 4060 Laptop GPU, Vendor: NVIDIA Corporation\n",
      "[LightGBM] [Info] Compiling OpenCL Kernel with 16 bins...\n",
      "[LightGBM] [Info] GPU programs have been built\n",
      "[LightGBM] [Warning] GPU acceleration is disabled because no non-trivial dense features can be found\n",
      "[LightGBM] [Info] [binary:BoostFromScore]: pavg=0.122679 -> initscore=-1.967301\n",
      "[LightGBM] [Info] Start training from score -1.967301\n",
      "LightGBM (GPU) Accuracy: 0.91\n"
     ]
    }
   ],
   "source": [
    "import lightgbm as lgb\n",
    "from sklearn.metrics import accuracy_score\n",
    "\n",
    "model_lgb = lgb.LGBMClassifier(\n",
    "    boosting_type = 'gbdt',\n",
    "    n_estimators = 100,\n",
    "    device = 'gpu'\n",
    ")\n",
    "\n",
    "model_lgb.fit(X_train, y_train)\n",
    "\n",
    "y_pred_lgb = model_lgb.predict(X_test)\n",
    "\n",
    "accuracy_lgb = accuracy_score(y_test, y_pred_lgb)\n",
    "print(f\"LightGBM (GPU) Accuracy: {accuracy_lgb:.2f}\")"
   ]
  },
  {
   "cell_type": "code",
   "execution_count": 17,
   "id": "5c0802ad-3af2-44a2-965b-a1562a4cdd10",
   "metadata": {},
   "outputs": [
    {
     "name": "stderr",
     "output_type": "stream",
     "text": [
      "C:\\Users\\mailv\\anaconda3\\Lib\\site-packages\\xgboost\\core.py:158: UserWarning: [12:11:11] WARNING: C:\\buildkite-agent\\builds\\buildkite-windows-cpu-autoscaling-group-i-08cbc0333d8d4aae1-1\\xgboost\\xgboost-ci-windows\\src\\common\\error_msg.cc:27: The tree method `gpu_hist` is deprecated since 2.0.0. To use GPU training, set the `device` parameter to CUDA instead.\n",
      "\n",
      "    E.g. tree_method = \"hist\", device = \"cuda\"\n",
      "\n",
      "  warnings.warn(smsg, UserWarning)\n",
      "C:\\Users\\mailv\\anaconda3\\Lib\\site-packages\\xgboost\\core.py:158: UserWarning: [12:11:11] WARNING: C:\\buildkite-agent\\builds\\buildkite-windows-cpu-autoscaling-group-i-08cbc0333d8d4aae1-1\\xgboost\\xgboost-ci-windows\\src\\learner.cc:740: \n",
      "Parameters: { \"predictor\", \"use_label_encoder\" } are not used.\n",
      "\n",
      "  warnings.warn(smsg, UserWarning)\n"
     ]
    },
    {
     "name": "stdout",
     "output_type": "stream",
     "text": [
      "XGBoost (GPU) Accuracy:  0.88\n"
     ]
    },
    {
     "name": "stderr",
     "output_type": "stream",
     "text": [
      "C:\\Users\\mailv\\anaconda3\\Lib\\site-packages\\xgboost\\core.py:158: UserWarning: [12:11:15] WARNING: C:\\buildkite-agent\\builds\\buildkite-windows-cpu-autoscaling-group-i-08cbc0333d8d4aae1-1\\xgboost\\xgboost-ci-windows\\src\\common\\error_msg.cc:27: The tree method `gpu_hist` is deprecated since 2.0.0. To use GPU training, set the `device` parameter to CUDA instead.\n",
      "\n",
      "    E.g. tree_method = \"hist\", device = \"cuda\"\n",
      "\n",
      "  warnings.warn(smsg, UserWarning)\n",
      "C:\\Users\\mailv\\anaconda3\\Lib\\site-packages\\xgboost\\core.py:158: UserWarning: [12:11:15] WARNING: C:\\buildkite-agent\\builds\\buildkite-windows-cpu-autoscaling-group-i-08cbc0333d8d4aae1-1\\xgboost\\xgboost-ci-windows\\src\\common\\error_msg.cc:58: Falling back to prediction using DMatrix due to mismatched devices. This might lead to higher memory usage and slower performance. XGBoost is running on: cuda:0, while the input data is on: cpu.\n",
      "Potential solutions:\n",
      "- Use a data structure that matches the device ordinal in the booster.\n",
      "- Set the device for booster before call to inplace_predict.\n",
      "\n",
      "This warning will only be shown once.\n",
      "\n",
      "  warnings.warn(smsg, UserWarning)\n"
     ]
    }
   ],
   "source": [
    "from xgboost import XGBClassifier\n",
    "\n",
    "model_xgb = XGBClassifier(\n",
    "    tree_method = 'gpu_hist',\n",
    "    predictor = 'gpu_predictor',\n",
    "    use_label_encoder = False,\n",
    "    eval_metric = 'logloss',\n",
    "    n_estimators = 100\n",
    ")\n",
    "\n",
    "model_xgb.fit(X_train, y_train)\n",
    "\n",
    "y_pred_xgb = model_xgb.predict(X_test)\n",
    "\n",
    "accuracy_xgb = accuracy_score(y_test, y_pred_xgb)\n",
    "print(f\"XGBoost (GPU) Accuracy: {accuracy_xgb: .2f}\")"
   ]
  },
  {
   "cell_type": "code",
   "execution_count": 18,
   "id": "5c66326a-f24e-4d16-aca6-fc6a42da3d15",
   "metadata": {},
   "outputs": [
    {
     "name": "stdout",
     "output_type": "stream",
     "text": [
      "Extra trees accuracy:  0.94\n"
     ]
    }
   ],
   "source": [
    "from sklearn.ensemble import ExtraTreesClassifier\n",
    "\n",
    "model_et = ExtraTreesClassifier(\n",
    "    n_estimators = 50,\n",
    "    n_jobs = -1,\n",
    "    random_state = 42\n",
    ")\n",
    "\n",
    "model_et.fit(X_train, y_train)\n",
    "\n",
    "y_pred_et = model_et.predict(X_test)\n",
    "\n",
    "accuracy_et = accuracy_score(y_test, y_pred_et)\n",
    "print(f\"Extra trees accuracy: {accuracy_et: .2f}\")"
   ]
  },
  {
   "cell_type": "code",
   "execution_count": 19,
   "id": "b2e50824-34da-4aa6-9be2-ea57f20f5e44",
   "metadata": {},
   "outputs": [
    {
     "name": "stdout",
     "output_type": "stream",
     "text": [
      "Naive Bayes Accuracy:  0.92\n"
     ]
    }
   ],
   "source": [
    "from sklearn.naive_bayes import MultinomialNB\n",
    "\n",
    "model_nb = MultinomialNB()\n",
    "\n",
    "model_nb.fit(X_train, y_train)\n",
    "\n",
    "y_pred_nb = model_nb.predict(X_test)\n",
    "\n",
    "accuracy_nb = accuracy_score(y_test, y_pred_nb)\n",
    "print(f\"Naive Bayes Accuracy: {accuracy_nb: .2f}\")"
   ]
  },
  {
   "cell_type": "code",
   "execution_count": 20,
   "id": "05695601-55bf-4f7a-b00f-235624c98469",
   "metadata": {},
   "outputs": [
    {
     "name": "stdout",
     "output_type": "stream",
     "text": [
      "SVM accuracy:  0.93\n"
     ]
    }
   ],
   "source": [
    "from sklearn.svm import SVC\n",
    "\n",
    "model_svm = SVC(kernel = 'linear')\n",
    "\n",
    "model_svm.fit(X_train, y_train)\n",
    "\n",
    "y_pred_svm = model_svm.predict(X_test)\n",
    "\n",
    "accuracy_svm = accuracy_score(y_test, y_pred_svm)\n",
    "print(f\"SVM accuracy: {accuracy_svm: .2f}\")"
   ]
  },
  {
   "cell_type": "code",
   "execution_count": 21,
   "id": "634449e7-9140-4bc4-ba86-38188c680fd1",
   "metadata": {},
   "outputs": [
    {
     "name": "stdout",
     "output_type": "stream",
     "text": [
      "Model Performance Comparison:\n"
     ]
    },
    {
     "data": {
      "text/html": [
       "<div>\n",
       "<style scoped>\n",
       "    .dataframe tbody tr th:only-of-type {\n",
       "        vertical-align: middle;\n",
       "    }\n",
       "\n",
       "    .dataframe tbody tr th {\n",
       "        vertical-align: top;\n",
       "    }\n",
       "\n",
       "    .dataframe thead th {\n",
       "        text-align: right;\n",
       "    }\n",
       "</style>\n",
       "<table border=\"1\" class=\"dataframe\">\n",
       "  <thead>\n",
       "    <tr style=\"text-align: right;\">\n",
       "      <th></th>\n",
       "      <th>Accuracy</th>\n",
       "      <th>Precision</th>\n",
       "      <th>Recall</th>\n",
       "      <th>F1-Score</th>\n",
       "    </tr>\n",
       "  </thead>\n",
       "  <tbody>\n",
       "    <tr>\n",
       "      <th>Logistic Regression</th>\n",
       "      <td>0.927119</td>\n",
       "      <td>0.833473</td>\n",
       "      <td>0.513296</td>\n",
       "      <td>0.635326</td>\n",
       "    </tr>\n",
       "    <tr>\n",
       "      <th>Random Forest</th>\n",
       "      <td>0.941856</td>\n",
       "      <td>0.830271</td>\n",
       "      <td>0.666048</td>\n",
       "      <td>0.739148</td>\n",
       "    </tr>\n",
       "    <tr>\n",
       "      <th>LightGBM</th>\n",
       "      <td>0.911796</td>\n",
       "      <td>0.875776</td>\n",
       "      <td>0.334261</td>\n",
       "      <td>0.483849</td>\n",
       "    </tr>\n",
       "    <tr>\n",
       "      <th>XGBoost</th>\n",
       "      <td>0.878842</td>\n",
       "      <td>0.834459</td>\n",
       "      <td>0.025459</td>\n",
       "      <td>0.04941</td>\n",
       "    </tr>\n",
       "    <tr>\n",
       "      <th>Extra Trees</th>\n",
       "      <td>0.941728</td>\n",
       "      <td>0.837344</td>\n",
       "      <td>0.65636</td>\n",
       "      <td>0.735887</td>\n",
       "    </tr>\n",
       "    <tr>\n",
       "      <th>Naive Bayes</th>\n",
       "      <td>0.923805</td>\n",
       "      <td>0.811403</td>\n",
       "      <td>0.500206</td>\n",
       "      <td>0.618887</td>\n",
       "    </tr>\n",
       "    <tr>\n",
       "      <th>SVM</th>\n",
       "      <td>0.932639</td>\n",
       "      <td>0.819682</td>\n",
       "      <td>0.583797</td>\n",
       "      <td>0.681917</td>\n",
       "    </tr>\n",
       "  </tbody>\n",
       "</table>\n",
       "</div>"
      ],
      "text/plain": [
       "                     Accuracy Precision    Recall  F1-Score\n",
       "Logistic Regression  0.927119  0.833473  0.513296  0.635326\n",
       "Random Forest        0.941856  0.830271  0.666048  0.739148\n",
       "LightGBM             0.911796  0.875776  0.334261  0.483849\n",
       "XGBoost              0.878842  0.834459  0.025459   0.04941\n",
       "Extra Trees          0.941728  0.837344   0.65636  0.735887\n",
       "Naive Bayes          0.923805  0.811403  0.500206  0.618887\n",
       "SVM                  0.932639  0.819682  0.583797  0.681917"
      ]
     },
     "metadata": {},
     "output_type": "display_data"
    },
    {
     "name": "stdout",
     "output_type": "stream",
     "text": [
      "\n",
      "Logistic Regression Performance:\n",
      "Accuracy: 0.93\n",
      "Precision: 0.83\n",
      "Recall: 0.51\n",
      "F1-Score: 0.64\n",
      "Classification Report:\n",
      "                      0            1  accuracy     macro avg  weighted avg\n",
      "precision      0.934840     0.833473  0.927119      0.884157      0.922303\n",
      "recall         0.985525     0.513296  0.927119      0.749411      0.927119\n",
      "f1-score       0.959514     0.635326  0.927119      0.797420      0.919418\n",
      "support    68741.000000  9702.000000  0.927119  78443.000000  78443.000000\n",
      "\n",
      "Random Forest Performance:\n",
      "Accuracy: 0.94\n",
      "Precision: 0.83\n",
      "Recall: 0.67\n",
      "F1-Score: 0.74\n",
      "Classification Report:\n",
      "                      0            1  accuracy     macro avg  weighted avg\n",
      "precision      0.954147     0.830271  0.941856      0.892209      0.938825\n",
      "recall         0.980783     0.666048  0.941856      0.823416      0.941856\n",
      "f1-score       0.967281     0.739148  0.941856      0.853215      0.939065\n",
      "support    68741.000000  9702.000000  0.941856  78443.000000  78443.000000\n",
      "\n",
      "LightGBM Performance:\n",
      "Accuracy: 0.91\n",
      "Precision: 0.88\n",
      "Recall: 0.33\n",
      "F1-Score: 0.48\n",
      "Classification Report:\n",
      "                      0            1  accuracy     macro avg  weighted avg\n",
      "precision      0.913580     0.875776  0.911796      0.894678      0.908905\n",
      "recall         0.993308     0.334261  0.911796      0.663785      0.911796\n",
      "f1-score       0.951778     0.483849  0.911796      0.717813      0.893903\n",
      "support    68741.000000  9702.000000  0.911796  78443.000000  78443.000000\n",
      "\n",
      "XGBoost Performance:\n",
      "Accuracy: 0.88\n",
      "Precision: 0.83\n",
      "Recall: 0.03\n",
      "F1-Score: 0.05\n",
      "Classification Report:\n",
      "                      0            1  accuracy     macro avg  weighted avg\n",
      "precision      0.879010     0.834459  0.878842      0.856735      0.873500\n",
      "recall         0.999287     0.025459  0.878842      0.512373      0.878842\n",
      "f1-score       0.935298     0.049410  0.878842      0.492354      0.825729\n",
      "support    68741.000000  9702.000000  0.878842  78443.000000  78443.000000\n",
      "\n",
      "Extra Trees Performance:\n",
      "Accuracy: 0.94\n",
      "Precision: 0.84\n",
      "Recall: 0.66\n",
      "F1-Score: 0.74\n",
      "Classification Report:\n",
      "                      0            1  accuracy     macro avg  weighted avg\n",
      "precision      0.952935     0.837344  0.941728      0.895139      0.938638\n",
      "recall         0.982005     0.656360  0.941728      0.819182      0.941728\n",
      "f1-score       0.967252     0.735887  0.941728      0.851569      0.938636\n",
      "support    68741.000000  9702.000000  0.941728  78443.000000  78443.000000\n",
      "\n",
      "Naive Bayes Performance:\n",
      "Accuracy: 0.92\n",
      "Precision: 0.81\n",
      "Recall: 0.50\n",
      "F1-Score: 0.62\n",
      "Classification Report:\n",
      "                      0            1  accuracy     macro avg  weighted avg\n",
      "precision      0.933082     0.811403  0.923805      0.872242      0.918033\n",
      "recall         0.983591     0.500206  0.923805      0.741898      0.923805\n",
      "f1-score       0.957671     0.618887  0.923805      0.788279      0.915769\n",
      "support    68741.000000  9702.000000  0.923805  78443.000000  78443.000000\n",
      "\n",
      "SVM Performance:\n",
      "Accuracy: 0.93\n",
      "Precision: 0.82\n",
      "Recall: 0.58\n",
      "F1-Score: 0.68\n",
      "Classification Report:\n",
      "                      0            1  accuracy     macro avg  weighted avg\n",
      "precision      0.943551     0.819682  0.932639      0.881616      0.928230\n",
      "recall         0.981874     0.583797  0.932639      0.782836      0.932639\n",
      "f1-score       0.962331     0.681917  0.932639      0.822124      0.927649\n",
      "support    68741.000000  9702.000000  0.932639  78443.000000  78443.000000\n"
     ]
    }
   ],
   "source": [
    "from sklearn.metrics import accuracy_score, classification_report\n",
    "\n",
    "# Dictionary to store results\n",
    "model_results = {}\n",
    "\n",
    "# Define models\n",
    "models = {\n",
    "    \"Logistic Regression\": model,\n",
    "    \"Random Forest\": model_rf,\n",
    "    \"LightGBM\": model_lgb,\n",
    "    \"XGBoost\": model_xgb,\n",
    "    \"Extra Trees\": model_et,\n",
    "    \"Naive Bayes\": model_nb,\n",
    "    \"SVM\": model_svm\n",
    "}\n",
    "\n",
    "# Evaluate each model\n",
    "for name, mdl in models.items():\n",
    "    y_pred = mdl.predict(X_test)\n",
    "    accuracy = accuracy_score(y_test, y_pred)\n",
    "    report = classification_report(y_test, y_pred, output_dict=True)\n",
    "\n",
    "    # Extract Precision, Recall, F1-Score for Class 1 (Literal Equations)\n",
    "    if \"1\" in report:  # Ensure the class label \"1\" exists in report\n",
    "        precision = report[\"1\"][\"precision\"]\n",
    "        recall = report[\"1\"][\"recall\"]\n",
    "        f1 = report[\"1\"][\"f1-score\"]\n",
    "    else:  # Handle cases where class \"1\" is missing\n",
    "        precision, recall, f1 = 0, 0, 0  \n",
    "\n",
    "    # Store extracted metrics\n",
    "    model_results[name] = {\n",
    "        \"Accuracy\": accuracy,\n",
    "        \"Precision\": precision,\n",
    "        \"Recall\": recall,\n",
    "        \"F1-Score\": f1,\n",
    "        \"Classification Report\": report\n",
    "    }\n",
    "\n",
    "# Convert results to DataFrame\n",
    "import pandas as pd\n",
    "results_df = pd.DataFrame(model_results).T\n",
    "\n",
    "# Display results\n",
    "from IPython.display import display\n",
    "print(\"Model Performance Comparison:\")\n",
    "display(results_df[[\"Accuracy\", \"Precision\", \"Recall\", \"F1-Score\"]])  # Show main metrics\n",
    "\n",
    "# Print classification reports\n",
    "for name, result in model_results.items():\n",
    "    print(f\"\\n{name} Performance:\")\n",
    "    print(f\"Accuracy: {result['Accuracy']:.2f}\")\n",
    "    print(f\"Precision: {result['Precision']:.2f}\")\n",
    "    print(f\"Recall: {result['Recall']:.2f}\")\n",
    "    print(f\"F1-Score: {result['F1-Score']:.2f}\")\n",
    "    print(\"Classification Report:\")\n",
    "    print(pd.DataFrame(result[\"Classification Report\"]))\n"
   ]
  },
  {
   "cell_type": "code",
   "execution_count": 22,
   "id": "08c7f6d9-a97b-4ae1-a475-e3f4be24c84c",
   "metadata": {},
   "outputs": [
    {
     "data": {
      "image/png": "[encoded data removed]",
      "text/plain": [
       "<Figure size 1200x600 with 1 Axes>"
      ]
     },
     "metadata": {},
     "output_type": "display_data"
    }
   ],
   "source": [
    "import matplotlib.pyplot as plt\n",
    "import seaborn as sns\n",
    "import pandas as pd\n",
    "\n",
    "# Ensure model_results contains classification reports properly\n",
    "results_cleaned = {}\n",
    "\n",
    "for name, data in model_results.items():\n",
    "    accuracy = data[\"Accuracy\"]\n",
    "    \n",
    "    # Extract Precision, Recall, and F1-score for the positive class (1)\n",
    "    classification_report_dict = data[\"Classification Report\"]\n",
    "    \n",
    "    if \"1\" in classification_report_dict:  # Ensure key exists\n",
    "        precision = classification_report_dict[\"1\"][\"precision\"]\n",
    "        recall = classification_report_dict[\"1\"][\"recall\"]\n",
    "        f1_score = classification_report_dict[\"1\"][\"f1-score\"]\n",
    "    else:  # Handle missing values\n",
    "        precision, recall, f1_score = 0, 0, 0  \n",
    "\n",
    "    results_cleaned[name] = {\n",
    "        \"Accuracy\": accuracy,\n",
    "        \"Precision\": precision,\n",
    "        \"Recall\": recall,\n",
    "        \"F1-Score\": f1_score\n",
    "    }\n",
    "\n",
    "# Convert cleaned dictionary to DataFrame\n",
    "results_df = pd.DataFrame(results_cleaned).T\n",
    "\n",
    "# Reset index to make 'Model' a column instead of row index\n",
    "results_df = results_df.reset_index().rename(columns={\"index\": \"Model\"})\n",
    "\n",
    "# Convert to long format for seaborn compatibility\n",
    "results_long = results_df.melt(id_vars=[\"Model\"], var_name=\"Metric\", value_name=\"Score\")\n",
    "\n",
    "# Ensure values are numeric\n",
    "results_long[\"Score\"] = pd.to_numeric(results_long[\"Score\"])\n",
    "\n",
    "# Plot Model Performance\n",
    "plt.figure(figsize=(12, 6))\n",
    "sns.barplot(x=\"Model\", y=\"Score\", hue=\"Metric\", data=results_long, palette=\"viridis\")\n",
    "\n",
    "# Improve readability\n",
    "plt.title(\"Model Performance Metrics\")\n",
    "plt.ylabel(\"Score\")\n",
    "plt.xticks(rotation=45)\n",
    "plt.legend(title=\"Metric\")\n",
    "\n",
    "# Show plot\n",
    "plt.show()\n"
   ]
  },
  {
   "cell_type": "code",
   "execution_count": 28,
   "id": "449cb333-96af-4bb4-9991-427163b25f0f",
   "metadata": {},
   "outputs": [
    {
     "name": "stdout",
     "output_type": "stream",
     "text": [
      "\n",
      "🏆 Best Model: Random Forest saved as random_forest_best_model.pkl\n",
      "Accuracy: 0.94\n",
      "Precision: 0.83\n",
      "Recall: 0.67\n",
      "F1-Score: 0.74\n"
     ]
    }
   ],
   "source": [
    "import joblib\n",
    "\n",
    "# Select best model using F1-Score\n",
    "best_model_name = max(model_results, key=lambda x: model_results[x][\"F1-Score\"])\n",
    "best_model = models[best_model_name]\n",
    "\n",
    "# Save the best model\n",
    "model_filename = f\"{best_model_name.replace(' ', '_').lower()}_best_model.pkl\"\n",
    "joblib.dump(best_model, model_filename)\n",
    "\n",
    "print(f\"\\n🏆 Best Model: {best_model_name} saved as {model_filename}\")\n",
    "print(f\"Accuracy: {model_results[best_model_name]['Accuracy']:.2f}\")\n",
    "print(f\"Precision: {model_results[best_model_name]['Precision']:.2f}\")\n",
    "print(f\"Recall: {model_results[best_model_name]['Recall']:.2f}\")\n",
    "print(f\"F1-Score: {model_results[best_model_name]['F1-Score']:.2f}\")\n"
   ]
  },
  {
   "cell_type": "code",
   "execution_count": 31,
   "id": "f69250c8-346b-4556-abf2-5b4a9f5d82b6",
   "metadata": {},
   "outputs": [
    {
     "data": {
      "image/png": "[encoded data removed]",
      "text/plain": [
       "<Figure size 600x500 with 2 Axes>"
      ]
     },
     "metadata": {},
     "output_type": "display_data"
    }
   ],
   "source": [
    "from sklearn.metrics import confusion_matrix\n",
    "\n",
    "# Identify the best model based on accuracy\n",
    "best_model_name = max(model_results, key=lambda x: model_results[x][\"Accuracy\"])\n",
    "best_model = models[best_model_name]\n",
    "\n",
    "# Predictions for the best model\n",
    "best_y_pred = best_model.predict(X_test)\n",
    "\n",
    "# Compute Confusion Matrix\n",
    "cm = confusion_matrix(y_test, best_y_pred)\n",
    "\n",
    "# Plot Confusion Matrix\n",
    "plt.figure(figsize=(6, 5))\n",
    "sns.heatmap(cm, annot=True, fmt='d', cmap='Blues', xticklabels=[\"Not Literal\", \"Literal\"], yticklabels=[\"Not Literal\", \"Literal\"])\n",
    "plt.xlabel(\"Predicted\")\n",
    "plt.ylabel(\"Actual\")\n",
    "plt.title(f\"Confusion Matrix for {best_model_name}\")\n",
    "plt.show()"
   ]
  },
  {
   "cell_type": "code",
   "execution_count": 25,
   "id": "d9a8073e-d80c-4218-9d53-19794d30b413",
   "metadata": {},
   "outputs": [],
   "source": [
    "# from sklearn.model_selection import GridSearchCV\n",
    "\n",
    "# # Example for Random Forest (adjust based on best model)\n",
    "# param_grid = {\n",
    "#     'n_estimators': [50, 100, 200],\n",
    "#     'max_depth': [None, 10, 20],\n",
    "#     'min_samples_split': [2, 5, 10],\n",
    "#     'min_samples_leaf': [1, 2, 4]\n",
    "# }\n",
    "\n",
    "# grid_search = GridSearchCV(best_model, param_grid, cv=5, scoring='f1', n_jobs=-1)\n",
    "# grid_search.fit(X_train, y_train)\n",
    "\n",
    "# print(f\"Best Parameters: {grid_search.best_params_}\")\n",
    "# best_model = grid_search.best_estimator_\n"
   ]
  }
 ],
 "metadata": {
  "kernelspec": {
   "display_name": "Python 3 (ipykernel)",
   "language": "python",
   "name": "python3"
  },
  "language_info": {
   "codemirror_mode": {
    "name": "ipython",
    "version": 3
   },
   "file_extension": ".py",
   "mimetype": "text/x-python",
   "name": "python",
   "nbconvert_exporter": "python",
   "pygments_lexer": "ipython3",
   "version": "3.12.4"
  }
 },
 "nbformat": 4,
 "nbformat_minor": 5
}
