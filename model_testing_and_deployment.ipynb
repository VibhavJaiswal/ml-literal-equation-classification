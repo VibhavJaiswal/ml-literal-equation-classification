{
 "cells": [
  {
   "cell_type": "code",
   "execution_count": 3,
   "id": "b25ed5a6-dcbb-401c-863e-5848770f2691",
   "metadata": {},
   "outputs": [
    {
     "name": "stdout",
     "output_type": "stream",
     "text": [
      "Equation: F = ma --> Literal Equation (1)\n",
      "Equation: 2 + 3 = 5 --> Not a Literal Equation (0)\n",
      "Equation: P = IV --> Literal Equation (1)\n",
      "Equation: E = mc^2 --> Literal Equation (1)\n"
     ]
    }
   ],
   "source": [
    "import joblib\n",
    "import numpy as np\n",
    "\n",
    "# ✅ Load the trained Random Forest model\n",
    "model_filename = \"random_forest_best_model.pkl\"\n",
    "random_forest_model = joblib.load(model_filename)\n",
    "\n",
    "# ✅ Load the saved TF-IDF Vectorizer\n",
    "vectorizer_filename = \"tfidf_vectorizer.pkl\"\n",
    "vectorizer = joblib.load(vectorizer_filename)\n",
    "\n",
    "# ✅ Sample test input (Modify as needed)\n",
    "test_equations = [\"F = ma\", \"2 + 3 = 5\", \"P = IV\", \"E = mc^2\"]\n",
    "\n",
    "# ✅ Transform the input using the saved vectorizer\n",
    "X_test_transformed = vectorizer.transform(test_equations)\n",
    "\n",
    "# ✅ Make predictions\n",
    "predictions = random_forest_model.predict(X_test_transformed)\n",
    "\n",
    "# ✅ Display results\n",
    "for eq, pred in zip(test_equations, predictions):\n",
    "    print(f\"Equation: {eq} --> {'Literal Equation (1)' if pred == 1 else 'Not a Literal Equation (0)'}\")\n"
   ]
  },
  {
   "cell_type": "code",
   "execution_count": null,
   "id": "a56f24d6-7735-49e7-8a16-1370dfca5069",
   "metadata": {},
   "outputs": [],
   "source": []
  }
 ],
 "metadata": {
  "kernelspec": {
   "display_name": "Python 3 (ipykernel)",
   "language": "python",
   "name": "python3"
  },
  "language_info": {
   "codemirror_mode": {
    "name": "ipython",
    "version": 3
   },
   "file_extension": ".py",
   "mimetype": "text/x-python",
   "name": "python",
   "nbconvert_exporter": "python",
   "pygments_lexer": "ipython3",
   "version": "3.12.4"
  }
 },
 "nbformat": 4,
 "nbformat_minor": 5
}
